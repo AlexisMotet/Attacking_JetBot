{
 "cells": [
  {
   "cell_type": "code",
   "execution_count": 2,
   "metadata": {},
   "outputs": [],
   "source": [
    "import new_patch\n",
    "from IPython.display import clear_output"
   ]
  },
  {
   "cell_type": "code",
   "execution_count": 3,
   "metadata": {},
   "outputs": [
    {
     "name": "stdout",
     "output_type": "stream",
     "text": [
      "================ CONFIG ==================\n",
      "{'ANGLES_RANGE': 0.08726646259971647,\n",
      " 'BATCH_SIZE_TEST': 1,\n",
      " 'BATCH_SIZE_TRAIN': 20,\n",
      " 'BLUR_KERNEL_SIZE': 5,\n",
      " 'BLUR_SIGMA_MAX': 0.5,\n",
      " 'BRIGHTNESS_BIAS': 0.1,\n",
      " 'CONTRAST_GAIN': 0.15,\n",
      " 'CX': 107.06,\n",
      " 'CY': 112.53,\n",
      " 'EXTRINSIC_R': array([[ 0.99962841, -0.00341178,  0.02567613,  0.        ],\n",
      "       [ 0.00779132,  0.98495789, -0.17276739,  0.        ],\n",
      "       [-0.02472487,  0.17295186,  0.98464952,  0.        ],\n",
      "       [ 0.        ,  0.        ,  0.        ,  1.        ]]),\n",
      " 'FX': 107.75,\n",
      " 'FY': 138.46,\n",
      " 'IMAGE_DIM': 224,\n",
      " 'K1': -0.2388,\n",
      " 'K2': 0.0337,\n",
      " 'LAMBDA_PRINT': 0.0,\n",
      " 'LAMBDA_TV': 0.0,\n",
      " 'LIMIT_TEST_LEN': -1,\n",
      " 'LIMIT_TRAIN_EPOCH_LEN': -1,\n",
      " 'MAX_ITERATIONS': 10,\n",
      " 'NOISE_STD': array([0.0215362 , 0.01915816, 0.02011976]),\n",
      " 'NORMALIZATION_MEAN': [0.485, 0.456, 0.406],\n",
      " 'NORMALIZATION_STD': [0.229, 0.224, 0.225],\n",
      " 'N_CLASSES': 2,\n",
      " 'N_COLORS': 100,\n",
      " 'N_ENREG_IMG': 1,\n",
      " 'PATH_DATASET': 'C:/Users/alexi/PROJET_3A/Projet_Adversarial_Patch/Project_Adverserial_Patch/Collision_Avoidance/dataset/',\n",
      " 'PATH_IMG_FOLDER': 'C:/Users/alexi/PROJET_3A/projet_MOTET/images/',\n",
      " 'PATH_MODEL': 'C:/Users/alexi/PROJET_3A/Projet_Adversarial_Patch/Project_Adverserial_Patch/Collision_Avoidance/best_model_extended.pth',\n",
      " 'PATH_PRINTABLE_COLORS': 'printability/pantone-colors.json',\n",
      " 'RATIO_TRAIN_TEST': 0.8,\n",
      " 'RESIZE_DIM': 256,\n",
      " 'SCALE_FACTOR_MIN': 0.9,\n",
      " 'THRESHOLD': 0.9,\n",
      " 'X_BOTTOM_RIGHT': 170,\n",
      " 'X_TOP_LEFT': 54,\n",
      " 'Y_BOTTOM_RIGHT': 140,\n",
      " 'Y_TOP_LEFT': 50}\n",
      "==========================================\n",
      "================ TRAINING ================\n",
      "date=17/02/2023 14:22:36 || target_class=None\n",
      "patch_relative_size=0.07 || n_epochs=3\n",
      "==========================================\n"
     ]
    },
    {
     "ename": "TypeError",
     "evalue": "logical_and(): argument 'other' (position 2) must be Tensor, not bool",
     "output_type": "error",
     "traceback": [
      "\u001b[1;31m---------------------------------------------------------------------------\u001b[0m",
      "\u001b[1;31mTypeError\u001b[0m                                 Traceback (most recent call last)",
      "\u001b[1;32mc:\\Users\\alexi\\PROJET_3A\\projet_MOTET\\new_generate_adversarial_patch.ipynb Cellule 2\u001b[0m in \u001b[0;36m<cell line: 2>\u001b[1;34m()\u001b[0m\n\u001b[0;32m      <a href='vscode-notebook-cell:/c%3A/Users/alexi/PROJET_3A/projet_MOTET/new_generate_adversarial_patch.ipynb#W1sZmlsZQ%3D%3D?line=0'>1</a>\u001b[0m patch_trainer \u001b[39m=\u001b[39m new_patch\u001b[39m.\u001b[39mPatchTrainer(n_epochs\u001b[39m=\u001b[39m\u001b[39m3\u001b[39m, patch_relative_size\u001b[39m=\u001b[39m\u001b[39m0.07\u001b[39m, target_class\u001b[39m=\u001b[39m\u001b[39mNone\u001b[39;00m, flee_class\u001b[39m=\u001b[39m\u001b[39m0\u001b[39m)\n\u001b[1;32m----> <a href='vscode-notebook-cell:/c%3A/Users/alexi/PROJET_3A/projet_MOTET/new_generate_adversarial_patch.ipynb#W1sZmlsZQ%3D%3D?line=1'>2</a>\u001b[0m patch_trainer\u001b[39m.\u001b[39;49mtrain()\n\u001b[0;32m      <a href='vscode-notebook-cell:/c%3A/Users/alexi/PROJET_3A/projet_MOTET/new_generate_adversarial_patch.ipynb#W1sZmlsZQ%3D%3D?line=2'>3</a>\u001b[0m patch_trainer\u001b[39m.\u001b[39msave_patch(\u001b[39m\"\u001b[39m\u001b[39mtest.patch\u001b[39m\u001b[39m\"\u001b[39m)\n",
      "File \u001b[1;32mc:\\Users\\alexi\\PROJET_3A\\projet_MOTET\\new_patch.py:176\u001b[0m, in \u001b[0;36mPatchTrainer.train\u001b[1;34m(self)\u001b[0m\n\u001b[0;32m    173\u001b[0m vector_scores \u001b[39m=\u001b[39m \u001b[39mself\u001b[39m\u001b[39m.\u001b[39mmodel(\u001b[39mself\u001b[39m\u001b[39m.\u001b[39mnormalize(batch))\n\u001b[0;32m    174\u001b[0m model_labels \u001b[39m=\u001b[39m torch\u001b[39m.\u001b[39margmax(vector_scores, axis\u001b[39m=\u001b[39m\u001b[39m1\u001b[39m)\n\u001b[1;32m--> 176\u001b[0m logical \u001b[39m=\u001b[39m torch\u001b[39m.\u001b[39;49mlogical_and(model_labels \u001b[39m==\u001b[39;49m true_labels, \n\u001b[0;32m    177\u001b[0m                             model_labels \u001b[39m!=\u001b[39;49m \u001b[39mself\u001b[39;49m\u001b[39m.\u001b[39;49mtarget_class)\n\u001b[0;32m    178\u001b[0m batch \u001b[39m=\u001b[39m batch[logical]\n\u001b[0;32m    179\u001b[0m true_labels \u001b[39m=\u001b[39m true_labels[logical]\n",
      "\u001b[1;31mTypeError\u001b[0m: logical_and(): argument 'other' (position 2) must be Tensor, not bool"
     ]
    }
   ],
   "source": [
    "patch_trainer = new_patch.PatchTrainer(n_epochs=3, patch_relative_size=0.07, target_class=1, flee_class=0)\n",
    "patch_trainer.train()\n",
    "patch_trainer.save_patch(\"test.patch\")\n"
   ]
  }
 ],
 "metadata": {
  "kernelspec": {
   "display_name": "Python 3",
   "language": "python",
   "name": "python3"
  },
  "language_info": {
   "codemirror_mode": {
    "name": "ipython",
    "version": 3
   },
   "file_extension": ".py",
   "mimetype": "text/x-python",
   "name": "python",
   "nbconvert_exporter": "python",
   "pygments_lexer": "ipython3",
   "version": "3.9.5"
  },
  "orig_nbformat": 4,
  "vscode": {
   "interpreter": {
    "hash": "218f1b0455c600b672f8e434cb6df3b114bc143e2ff7452b3e91937ecde3049c"
   }
  }
 },
 "nbformat": 4,
 "nbformat_minor": 2
}
