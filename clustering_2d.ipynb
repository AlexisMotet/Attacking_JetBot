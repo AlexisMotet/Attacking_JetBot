{
 "cells": [
  {
   "cell_type": "code",
   "execution_count": 24,
   "metadata": {},
   "outputs": [],
   "source": [
    "import torch\n",
    "import constants.constants as c\n",
    "from configs import config\n",
    "from sklearn.cluster import KMeans\n",
    "from sklearn.decomposition import PCA\n",
    "import numpy as np\n",
    "import utils.utils as u\n",
    "from torchvision.transforms import Normalize\n",
    "import matplotlib.pyplot as plt\n",
    "import matplotlib.patches as patches\n",
    "import matplotlib.text as text\n",
    "from matplotlib.colors import ListedColormap\n",
    "import glob\n",
    "from PIL import Image\n",
    "import pickle\n",
    "from collections import Counter\n",
    "import random"
   ]
  },
  {
   "cell_type": "code",
   "execution_count": 25,
   "metadata": {},
   "outputs": [],
   "source": [
    "%matplotlib qt\n",
    "SMALL_SIZE = 13\n",
    "MEDIUM_SIZE = 15\n",
    "BIGGER_SIZE = 20\n",
    "\n",
    "plt.rc('font', size=SMALL_SIZE)          # controls default text sizes\n",
    "plt.rc('axes', titlesize=SMALL_SIZE)     # fontsize of the axes title\n",
    "plt.rc('axes', labelsize=MEDIUM_SIZE)    # fontsize of the x and y labels\n",
    "plt.rc('xtick', labelsize=SMALL_SIZE)    # fontsize of the tick labels\n",
    "plt.rc('ytick', labelsize=SMALL_SIZE)    # fontsize of the tick labels\n",
    "plt.rc('legend', fontsize=SMALL_SIZE)    # legend fontsize\n",
    "plt.rc('figure', titlesize=BIGGER_SIZE)  # fontsize of the figure title"
   ]
  },
  {
   "cell_type": "code",
   "execution_count": 26,
   "metadata": {},
   "outputs": [],
   "source": [
    "u.setup_config(config)\n",
    "path_images_free = \"\"\n",
    "path_images_blocked = \"\"\n",
    "path_patch = \"\""
   ]
  },
  {
   "cell_type": "code",
   "execution_count": 27,
   "metadata": {},
   "outputs": [],
   "source": [
    "images_free = glob.glob(path_images_free)\n",
    "images_blocked = glob.glob(path_images_blocked)\n",
    "images = []\n",
    "images_ = images_free + images_blocked\n",
    "random.shuffle(images_)\n",
    "for i, image_name in enumerate(images_) :\n",
    "    with open(image_name, \"rb\") as f:\n",
    "        image_PIL = Image.open(f)\n",
    "        images.append(np.array(image_PIL)/255)"
   ]
  },
  {
   "cell_type": "code",
   "execution_count": 28,
   "metadata": {},
   "outputs": [],
   "source": [
    "trainer = pickle.load(open(path_patch,\"rb\"))\n",
    "trainer.load(config)"
   ]
  },
  {
   "cell_type": "code",
   "execution_count": 29,
   "metadata": {},
   "outputs": [],
   "source": [
    "fig = plt.figure()\n",
    "subplot = fig.add_subplot()\n",
    "subplot.imshow(u.tensor_to_array(trainer.best_patch))\n",
    "plt.show()"
   ]
  },
  {
   "cell_type": "code",
   "execution_count": 30,
   "metadata": {},
   "outputs": [
    {
     "name": "stdout",
     "output_type": "stream",
     "text": [
      "Counter({0: 236, 3: 7})\n"
     ]
    }
   ],
   "source": [
    "normalize = Normalize(c.consts[\"NORMALIZATION_MEAN\"], c.consts[\"NORMALIZATION_STD\"])\n",
    "\n",
    "model = u.load_model()\n",
    "model.eval()\n",
    "\n",
    "o = [None]\n",
    "def save_output(module, intput, output):\n",
    "    o[0] = output\n",
    "    \n",
    "model.classifier[5].register_forward_hook(save_output)\n",
    "\n",
    "free = []\n",
    "X = []\n",
    "for image in images :\n",
    "    output = model(normalize(u.array_to_tensor(image)))\n",
    "    X.append(o[0].detach().numpy())\n",
    "    \n",
    "    model_label = torch.argmax(output, axis=1)\n",
    "    free.append(int(model_label) == 1)\n",
    "\n",
    "X = np.array(X)[:, 0, :]\n",
    "pca = PCA(n_components=2)\n",
    "kMeans = KMeans(n_clusters=4)\n",
    "X_PCA = pca.fit_transform(X)\n",
    "clusters = kMeans.fit_predict(X_PCA)\n",
    "counter = Counter(clusters[free])\n",
    "print(counter)\n",
    "free_cluster = max(counter, key=counter.get)\n",
    "for i, image in enumerate(images) :\n",
    "    Image.fromarray((image * 255).astype(np.uint8)).save(\n",
    "        \"C:/Users/alexi/PROJET_3A/clustering_test/c%d/%d.png\" % (clusters[i], i)\n",
    "        )"
   ]
  },
  {
   "cell_type": "code",
   "execution_count": 31,
   "metadata": {},
   "outputs": [],
   "source": [
    "def attack(trainer, image):\n",
    "    attacked, vector_scores = trainer.attack_batch(image)\n",
    "    vector_proba = torch.nn.functional.softmax(vector_scores, dim=1)\n",
    "    target_proba = float(torch.mean(vector_proba[:, trainer.target_class]))\n",
    "    model(normalize(attacked))\n",
    "    point = pca.transform(o[0].detach().numpy())[0]\n",
    "    return attacked, target_proba, point"
   ]
  },
  {
   "cell_type": "code",
   "execution_count": 32,
   "metadata": {},
   "outputs": [],
   "source": [
    "clusters_info = {k : {\"point1\" : [], \"point2\" : [], \"target_proba\" : []} \n",
    "                 for k in range(4) if k!=free_cluster}\n",
    "for i, image in enumerate(images) :\n",
    "    if clusters[i] == free_cluster : \n",
    "        continue\n",
    "    image_tensor = u.array_to_tensor(image)\n",
    "    point1 = X_PCA[i, :]\n",
    "    attacked, target_proba, point2 = attack(trainer, image_tensor)\n",
    "    \n",
    "    clusters_info[clusters[i]][\"point1\"].append(point1)\n",
    "    clusters_info[clusters[i]][\"point2\"].append(point2)\n",
    "    clusters_info[clusters[i]][\"target_proba\"].append(target_proba)"
   ]
  },
  {
   "cell_type": "code",
   "execution_count": 33,
   "metadata": {},
   "outputs": [
    {
     "name": "stdout",
     "output_type": "stream",
     "text": [
      "{1: {'point1': array([30.319077, 29.402205], dtype=float32), 'point2': array([ 3.4977415, 45.339157 ], dtype=float32), 'target_proba': 0.26035828801058875}, 2: {'point1': array([ 36.396057, -18.61073 ], dtype=float32), 'point2': array([ 2.177882, 12.679098], dtype=float32), 'target_proba': 0.2258588712213054}, 3: {'point1': array([15.155572, -7.328444], dtype=float32), 'point2': array([-19.293148,  18.213623], dtype=float32), 'target_proba': 0.7116996722826086}}\n"
     ]
    }
   ],
   "source": [
    "clusters_mean = {k : {\"point1\" : sum(v[\"point1\"])/len(v[\"point1\"]),\n",
    "                      \"point2\" : sum(v[\"point2\"])/len(v[\"point2\"]),\n",
    "                      \"target_proba\" : sum(v[\"target_proba\"])/len(v[\"target_proba\"])} for k, v in clusters_info.items()}\n",
    "print(clusters_mean)"
   ]
  },
  {
   "cell_type": "code",
   "execution_count": 34,
   "metadata": {},
   "outputs": [],
   "source": [
    "h = 0.02\n",
    "offset1 = 5\n",
    "offset20 = 17\n",
    "offset21 = 12\n",
    "x_min, x_max = X_PCA.min() - offset1, X_PCA.max() + offset1\n",
    "y_min, y_max = X_PCA.min() - offset1, X_PCA.max() + offset1\n",
    "\n",
    "xx, yy = np.meshgrid(np.arange(x_min, x_max, h), np.arange(y_min, y_max, h))\n",
    "xx, yy = xx.astype(np.float32), yy.astype(np.float32)\n",
    "Z = kMeans.predict(np.c_[xx.ravel(), yy.ravel()])\n",
    "Z = Z.reshape(xx.shape)\n",
    "\n",
    "fig = plt.figure(figsize=plt.figaspect(0.5))\n",
    "ax1 = fig.add_subplot(1, 1, 1)\n",
    "\n",
    "colors = [\"darkorange\", \"gold\", \"lawngreen\", \"lightseagreen\"]\n",
    "cmap_ = ListedColormap(colors)\n",
    "\n",
    "ax1.imshow(\n",
    "    Z,\n",
    "    interpolation=\"nearest\",\n",
    "    extent=(xx.min(), xx.max(), yy.min(), yy.max()),\n",
    "    cmap=cmap_,\n",
    "    aspect=\"auto\",\n",
    "    origin=\"lower\",\n",
    ")\n",
    "\n",
    "patches_ = []\n",
    "i = 0\n",
    "for n, color in enumerate(colors) :\n",
    "    if n == free_cluster :\n",
    "        patches_.insert(0, patches.Patch(color=color, label=\"free\")) \n",
    "    else :\n",
    "        patches_.append(patches.Patch(color=color, label=\"blocked%d\" % i)) \n",
    "        i +=1\n",
    "\n",
    "ax1.scatter(X_PCA[:, 0], X_PCA[:, 1], label=\"image\", c=\"black\", alpha=0.3)\n",
    "\n",
    "ax1.scatter(\n",
    "    kMeans.cluster_centers_[:, 0],\n",
    "    kMeans.cluster_centers_[:, 1],\n",
    "    marker=\"+\",\n",
    "    color=\"black\",\n",
    "    s=300,\n",
    "    linewidth=3,\n",
    "    label=\"cluster center\"\n",
    ")\n",
    "\n",
    "for cluster, v in clusters_mean.items():\n",
    "    ax1.add_artist(patches.ConnectionPatch(v[\"point1\"], v[\"point2\"], coordsA=\"data\", arrowstyle=\n",
    "                                   patches.ArrowStyle(\"->\", head_length=0.8, head_width=0.5),\n",
    "                                   linewidth=3.5, color=\"red\", zorder=200))\n",
    "    ax1.add_artist(text.Text(*(v[\"point1\"]-np.array([offset20, offset21])), \"p=%.2f%%\" % v[\"target_proba\"], fontsize=40))\n",
    "\n",
    "ax1.scatter([] , [], c=\"red\",marker=r\"$\\rightarrow$\", s=1000, label=\"average attack\")\n",
    "legend = ax1.legend(fontsize=20, loc=1)\n",
    "ax1.add_artist(legend)\n",
    "ax1.legend(handles=patches_, fontsize=20, loc=2)\n",
    "plt.show()\n"
   ]
  }
 ],
 "metadata": {
  "kernelspec": {
   "display_name": "Python 3",
   "language": "python",
   "name": "python3"
  },
  "language_info": {
   "codemirror_mode": {
    "name": "ipython",
    "version": 3
   },
   "file_extension": ".py",
   "mimetype": "text/x-python",
   "name": "python",
   "nbconvert_exporter": "python",
   "pygments_lexer": "ipython3",
   "version": "3.9.5"
  },
  "orig_nbformat": 4,
  "vscode": {
   "interpreter": {
    "hash": "218f1b0455c600b672f8e434cb6df3b114bc143e2ff7452b3e91937ecde3049c"
   }
  }
 },
 "nbformat": 4,
 "nbformat_minor": 2
}
