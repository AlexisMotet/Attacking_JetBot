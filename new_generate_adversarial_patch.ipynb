{
 "cells": [
  {
   "cell_type": "code",
   "execution_count": 1,
   "metadata": {},
   "outputs": [],
   "source": [
    "import new_patch\n",
    "import matplotlib.pyplot as plt"
   ]
  },
  {
   "cell_type": "code",
   "execution_count": 2,
   "metadata": {},
   "outputs": [],
   "source": [
    "%matplotlib inline\n",
    "plt.rcParams['figure.figsize'] = [10, 10]"
   ]
  },
  {
   "cell_type": "code",
   "execution_count": 2,
   "metadata": {},
   "outputs": [],
   "source": [
    "path_model = 'C:\\\\Users\\\\alexi\\\\PROJET_3A\\\\Projet Adversarial Patch\\\\Project Adverserial Patch\\\\Collision Avoidance\\\\best_model_extended.pth'\n",
    "path_dataset = 'C:\\\\Users\\\\alexi\\\\PROJET_3A\\\\Projet Adversarial Patch\\\\Project Adverserial Patch\\\\Collision Avoidance\\\\dataset'\n",
    "path_calibration = 'C:\\\\Users\\\\alexi\\\\PROJET_3A\\\\projet_3A\\\\calibration\\\\'\n",
    "path_distortion = 'C:\\\\Users\\\\alexi\\\\PROJET_3A\\\\projet_3A\\\\distortion\\\\distortion.so'\n",
    "path_printable_vals = 'C:\\\\Users\\\\alexi\\\\PROJET_3A\\\\projet_3A\\\\printability\\\\printable_vals.dat'"
   ]
  },
  {
   "cell_type": "code",
   "execution_count": 3,
   "metadata": {},
   "outputs": [
    {
     "name": "stderr",
     "output_type": "stream",
     "text": [
      "c:\\Users\\alexi\\AppData\\Local\\Programs\\Python\\Python39\\lib\\site-packages\\torchvision\\models\\_utils.py:208: UserWarning: The parameter 'pretrained' is deprecated since 0.13 and may be removed in the future, please use 'weights' instead.\n",
      "  warnings.warn(\n",
      "c:\\Users\\alexi\\AppData\\Local\\Programs\\Python\\Python39\\lib\\site-packages\\torchvision\\models\\_utils.py:223: UserWarning: Arguments other than a weight enum or `None` for 'weights' are deprecated since 0.13 and may be removed in the future. The current behavior is equivalent to passing `weights=None`.\n",
      "  warnings.warn(msg)\n"
     ]
    },
    {
     "name": "stdout",
     "output_type": "stream",
     "text": [
      "first target proba : 0.000000\n",
      "iteration : 1 target proba : 0.000000\n",
      "iteration : 2 target proba : 0.000005\n",
      "iteration : 3 target proba : 0.000051\n",
      "iteration : 4 target proba : 0.000361\n",
      "iteration : 5 target proba : 0.001699\n",
      "iteration : 6 target proba : 0.001761\n",
      "iteration : 7 target proba : 0.002012\n",
      "iteration : 8 target proba : 0.012844\n",
      "iteration : 9 target proba : 0.160457\n",
      "iteration : 10 target proba : 0.405560\n",
      "first target proba : 0.000000\n",
      "iteration : 1 target proba : 0.000003\n",
      "iteration : 2 target proba : 0.000167\n",
      "iteration : 3 target proba : 0.001953\n",
      "iteration : 4 target proba : 0.010017\n",
      "iteration : 5 target proba : 0.033789\n",
      "iteration : 6 target proba : 0.079464\n",
      "iteration : 7 target proba : 0.149427\n",
      "iteration : 8 target proba : 0.258648\n",
      "iteration : 9 target proba : 0.377685\n",
      "iteration : 10 target proba : 0.424493\n",
      "first target proba : 0.000905\n",
      "iteration : 1 target proba : 0.625256\n",
      "iteration : 2 target proba : 0.937817\n",
      "first target proba : 0.000000\n",
      "iteration : 1 target proba : 0.000002\n",
      "iteration : 2 target proba : 0.000012\n",
      "iteration : 3 target proba : 0.000030\n",
      "iteration : 4 target proba : 0.000049\n",
      "iteration : 5 target proba : 0.000095\n"
     ]
    },
    {
     "ename": "KeyboardInterrupt",
     "evalue": "",
     "output_type": "error",
     "traceback": [
      "\u001b[1;31m---------------------------------------------------------------------------\u001b[0m",
      "\u001b[1;31mKeyboardInterrupt\u001b[0m                         Traceback (most recent call last)",
      "\u001b[1;32mc:\\Users\\alexi\\PROJET_3A\\projet_3A\\new_generate_adversarial_patch.ipynb Cell 4\u001b[0m in \u001b[0;36m<cell line: 5>\u001b[1;34m()\u001b[0m\n\u001b[0;32m      <a href='vscode-notebook-cell:/c%3A/Users/alexi/PROJET_3A/projet_3A/new_generate_adversarial_patch.ipynb#W3sZmlsZQ%3D%3D?line=0'>1</a>\u001b[0m patch_trainer \u001b[39m=\u001b[39m new_patch\u001b[39m.\u001b[39mPatchTrainer(path_model, path_dataset, path_calibration, path_distortion, \n\u001b[0;32m      <a href='vscode-notebook-cell:/c%3A/Users/alexi/PROJET_3A/projet_3A/new_generate_adversarial_patch.ipynb#W3sZmlsZQ%3D%3D?line=1'>2</a>\u001b[0m                                        path_printable_vals, lambda_tv\u001b[39m=\u001b[39m\u001b[39m0.005\u001b[39m, lambda_print\u001b[39m=\u001b[39m\u001b[39m0.005\u001b[39m, \n\u001b[0;32m      <a href='vscode-notebook-cell:/c%3A/Users/alexi/PROJET_3A/projet_3A/new_generate_adversarial_patch.ipynb#W3sZmlsZQ%3D%3D?line=2'>3</a>\u001b[0m                                        n_classes\u001b[39m=\u001b[39m\u001b[39m2\u001b[39m, target_class\u001b[39m=\u001b[39m\u001b[39m1\u001b[39m, distort\u001b[39m=\u001b[39m\u001b[39mTrue\u001b[39;00m, \n\u001b[0;32m      <a href='vscode-notebook-cell:/c%3A/Users/alexi/PROJET_3A/projet_3A/new_generate_adversarial_patch.ipynb#W3sZmlsZQ%3D%3D?line=3'>4</a>\u001b[0m                                        patch_relative_size\u001b[39m=\u001b[39m\u001b[39m0.05\u001b[39m, n_epochs\u001b[39m=\u001b[39m\u001b[39m2\u001b[39m)\n\u001b[1;32m----> <a href='vscode-notebook-cell:/c%3A/Users/alexi/PROJET_3A/projet_3A/new_generate_adversarial_patch.ipynb#W3sZmlsZQ%3D%3D?line=4'>5</a>\u001b[0m patch_trainer\u001b[39m.\u001b[39;49mtrain()\n\u001b[0;32m      <a href='vscode-notebook-cell:/c%3A/Users/alexi/PROJET_3A/projet_3A/new_generate_adversarial_patch.ipynb#W3sZmlsZQ%3D%3D?line=5'>6</a>\u001b[0m patch_trainer\u001b[39m.\u001b[39mtest()\n\u001b[0;32m      <a href='vscode-notebook-cell:/c%3A/Users/alexi/PROJET_3A/projet_3A/new_generate_adversarial_patch.ipynb#W3sZmlsZQ%3D%3D?line=6'>7</a>\u001b[0m patch_trainer\u001b[39m.\u001b[39msave_patch(\u001b[39m\"\u001b[39m\u001b[39mtest.patch\u001b[39m\u001b[39m\"\u001b[39m)\n",
      "File \u001b[1;32mc:\\Users\\alexi\\PROJET_3A\\projet_3A\\new_patch.py:299\u001b[0m, in \u001b[0;36mPatchTrainer.train\u001b[1;34m(self)\u001b[0m\n\u001b[0;32m    295\u001b[0m row0, col0 \u001b[39m=\u001b[39m \u001b[39mself\u001b[39m\u001b[39m.\u001b[39mfind_patch_position(var_image\u001b[39m.\u001b[39mgrad\u001b[39m.\u001b[39mclone())\n\u001b[0;32m    297\u001b[0m \u001b[39mif\u001b[39;00m (\u001b[39mself\u001b[39m\u001b[39m.\u001b[39mdistort) :\n\u001b[0;32m    298\u001b[0m     first_target_proba, adversarial_image, empty_with_patch \u001b[39m=\u001b[39m \\\n\u001b[1;32m--> 299\u001b[0m         \u001b[39mself\u001b[39;49m\u001b[39m.\u001b[39;49mimage_attack_with_distortion(image, row0, col0)\n\u001b[0;32m    300\u001b[0m \u001b[39melse\u001b[39;00m :\n\u001b[0;32m    301\u001b[0m     first_target_proba, adversarial_image, empty_with_patch \u001b[39m=\u001b[39m \\\n\u001b[0;32m    302\u001b[0m         \u001b[39mself\u001b[39m\u001b[39m.\u001b[39mimage_attack(image, row0, col0)\n",
      "File \u001b[1;32mc:\\Users\\alexi\\PROJET_3A\\projet_3A\\new_patch.py:187\u001b[0m, in \u001b[0;36mPatchTrainer.image_attack_with_distortion\u001b[1;34m(self, image, row0, col0)\u001b[0m\n\u001b[0;32m    185\u001b[0m loss \u001b[39m=\u001b[39m \u001b[39m-\u001b[39mtorch\u001b[39m.\u001b[39mnn\u001b[39m.\u001b[39mfunctional\u001b[39m.\u001b[39mlog_softmax(vector_scores, dim\u001b[39m=\u001b[39m\u001b[39m1\u001b[39m)\n\u001b[0;32m    186\u001b[0m loss_target \u001b[39m=\u001b[39m loss[\u001b[39m0\u001b[39m, \u001b[39mself\u001b[39m\u001b[39m.\u001b[39mtarget_class]\n\u001b[1;32m--> 187\u001b[0m loss_target\u001b[39m.\u001b[39;49mbackward()\n\u001b[0;32m    188\u001b[0m grad \u001b[39m=\u001b[39m var_adversarial_image\u001b[39m.\u001b[39mgrad\u001b[39m.\u001b[39mclone()\n\u001b[0;32m    190\u001b[0m grad \u001b[39m=\u001b[39m \u001b[39mself\u001b[39m\u001b[39m.\u001b[39mgrad_normalization(grad)\n",
      "File \u001b[1;32mc:\\Users\\alexi\\AppData\\Local\\Programs\\Python\\Python39\\lib\\site-packages\\torch\\_tensor.py:487\u001b[0m, in \u001b[0;36mTensor.backward\u001b[1;34m(self, gradient, retain_graph, create_graph, inputs)\u001b[0m\n\u001b[0;32m    477\u001b[0m \u001b[39mif\u001b[39;00m has_torch_function_unary(\u001b[39mself\u001b[39m):\n\u001b[0;32m    478\u001b[0m     \u001b[39mreturn\u001b[39;00m handle_torch_function(\n\u001b[0;32m    479\u001b[0m         Tensor\u001b[39m.\u001b[39mbackward,\n\u001b[0;32m    480\u001b[0m         (\u001b[39mself\u001b[39m,),\n\u001b[1;32m   (...)\u001b[0m\n\u001b[0;32m    485\u001b[0m         inputs\u001b[39m=\u001b[39minputs,\n\u001b[0;32m    486\u001b[0m     )\n\u001b[1;32m--> 487\u001b[0m torch\u001b[39m.\u001b[39;49mautograd\u001b[39m.\u001b[39;49mbackward(\n\u001b[0;32m    488\u001b[0m     \u001b[39mself\u001b[39;49m, gradient, retain_graph, create_graph, inputs\u001b[39m=\u001b[39;49minputs\n\u001b[0;32m    489\u001b[0m )\n",
      "File \u001b[1;32mc:\\Users\\alexi\\AppData\\Local\\Programs\\Python\\Python39\\lib\\site-packages\\torch\\autograd\\__init__.py:197\u001b[0m, in \u001b[0;36mbackward\u001b[1;34m(tensors, grad_tensors, retain_graph, create_graph, grad_variables, inputs)\u001b[0m\n\u001b[0;32m    192\u001b[0m     retain_graph \u001b[39m=\u001b[39m create_graph\n\u001b[0;32m    194\u001b[0m \u001b[39m# The reason we repeat same the comment below is that\u001b[39;00m\n\u001b[0;32m    195\u001b[0m \u001b[39m# some Python versions print out the first line of a multi-line function\u001b[39;00m\n\u001b[0;32m    196\u001b[0m \u001b[39m# calls in the traceback and some print out the last line\u001b[39;00m\n\u001b[1;32m--> 197\u001b[0m Variable\u001b[39m.\u001b[39;49m_execution_engine\u001b[39m.\u001b[39;49mrun_backward(  \u001b[39m# Calls into the C++ engine to run the backward pass\u001b[39;49;00m\n\u001b[0;32m    198\u001b[0m     tensors, grad_tensors_, retain_graph, create_graph, inputs,\n\u001b[0;32m    199\u001b[0m     allow_unreachable\u001b[39m=\u001b[39;49m\u001b[39mTrue\u001b[39;49;00m, accumulate_grad\u001b[39m=\u001b[39;49m\u001b[39mTrue\u001b[39;49;00m)\n",
      "\u001b[1;31mKeyboardInterrupt\u001b[0m: "
     ]
    }
   ],
   "source": [
    "patch_trainer = new_patch.PatchTrainer(path_model, path_dataset, path_calibration, path_distortion, \n",
    "                                       path_printable_vals, lambda_tv=0.005, lambda_print=0.005, \n",
    "                                       n_classes=2, target_class=1, distort=True, \n",
    "                                       patch_relative_size=0.05, n_epochs=2)\n",
    "patch_trainer.train()\n",
    "patch_trainer.test()\n",
    "patch_trainer.save_patch(\"test.patch\")\n",
    "\n",
    "\"\"\"\n",
    "patch_trainer = new_patch.PatchTrainer(path_model, path_dataset, path_calibration, path_printable_vals, \n",
    "                                       lambda_tv=0.005, lambda_print=0.005, n_classes=2, target_class=1, \n",
    "                                       distort=True, patch_relative_size=0.03, n_epochs=2)\n",
    "patch_trainer.train()\n",
    "patch_trainer.test()\n",
    "patch_trainer.save_patch(\"jetbot_mix_3%_distorsion.patch\")\n",
    "\n",
    "\n",
    "patch_trainer = new_patch.PatchTrainer(path_model, path_dataset, path_calibration, path_printable_vals, \n",
    "                                       lambda_tv=0.005, lambda_print=0.005, n_classes=2, target_class=1, \n",
    "                                       distort=True, patch_relative_size=0.01, n_epochs=2)\n",
    "patch_trainer.train()\n",
    "patch_trainer.test()\n",
    "patch_trainer.save_patch(\"jetbot_mix_1%_distorsion.patch\")\n",
    "\n",
    "\"\"\""
   ]
  },
  {
   "cell_type": "code",
   "execution_count": 5,
   "metadata": {},
   "outputs": [
    {
     "name": "stdout",
     "output_type": "stream",
     "text": [
      "True\n",
      "sucess/total : 0/1 accuracy : 0.000000\n"
     ]
    },
    {
     "ename": "RuntimeError",
     "evalue": "[enforce fail at C:\\actions-runner\\_work\\pytorch\\pytorch\\builder\\windows\\pytorch\\c10\\core\\impl\\alloc_cpu.cpp:72] data. DefaultCPUAllocator: not enough memory: you tried to allocate 150994944 bytes.",
     "output_type": "error",
     "traceback": [
      "\u001b[1;31m---------------------------------------------------------------------------\u001b[0m",
      "\u001b[1;31mRuntimeError\u001b[0m                              Traceback (most recent call last)",
      "\u001b[1;32mc:\\Users\\alexi\\PROJET_3A\\projet_3A\\new_generate_adversarial_patch.ipynb Cell 5\u001b[0m in \u001b[0;36m<cell line: 1>\u001b[1;34m()\u001b[0m\n\u001b[1;32m----> <a href='vscode-notebook-cell:/c%3A/Users/alexi/PROJET_3A/projet_3A/new_generate_adversarial_patch.ipynb#W5sZmlsZQ%3D%3D?line=0'>1</a>\u001b[0m patch_trainer\u001b[39m.\u001b[39;49mtest()\n",
      "File \u001b[1;32mc:\\Users\\alexi\\PROJET_3A\\projet_3A\\new_patch.py:229\u001b[0m, in \u001b[0;36mPatchTrainer.test\u001b[1;34m(self)\u001b[0m\n\u001b[0;32m    227\u001b[0m \u001b[39m#a modifier\u001b[39;00m\n\u001b[0;32m    228\u001b[0m loss_model \u001b[39m=\u001b[39m \u001b[39m-\u001b[39mtorch\u001b[39m.\u001b[39mnn\u001b[39m.\u001b[39mfunctional\u001b[39m.\u001b[39mlog_softmax(vector_scores, dim\u001b[39m=\u001b[39m\u001b[39m1\u001b[39m)[\u001b[39m0\u001b[39m, model_label]\n\u001b[1;32m--> 229\u001b[0m loss_model\u001b[39m.\u001b[39;49mbackward()\n\u001b[0;32m    231\u001b[0m grad \u001b[39m=\u001b[39m var_image\u001b[39m.\u001b[39mgrad\u001b[39m.\u001b[39mclone()\n\u001b[0;32m    232\u001b[0m var_image\u001b[39m.\u001b[39mgrad\u001b[39m.\u001b[39mdata\u001b[39m.\u001b[39mzero_()\n",
      "File \u001b[1;32mc:\\Users\\alexi\\AppData\\Local\\Programs\\Python\\Python39\\lib\\site-packages\\torch\\_tensor.py:487\u001b[0m, in \u001b[0;36mTensor.backward\u001b[1;34m(self, gradient, retain_graph, create_graph, inputs)\u001b[0m\n\u001b[0;32m    477\u001b[0m \u001b[39mif\u001b[39;00m has_torch_function_unary(\u001b[39mself\u001b[39m):\n\u001b[0;32m    478\u001b[0m     \u001b[39mreturn\u001b[39;00m handle_torch_function(\n\u001b[0;32m    479\u001b[0m         Tensor\u001b[39m.\u001b[39mbackward,\n\u001b[0;32m    480\u001b[0m         (\u001b[39mself\u001b[39m,),\n\u001b[1;32m   (...)\u001b[0m\n\u001b[0;32m    485\u001b[0m         inputs\u001b[39m=\u001b[39minputs,\n\u001b[0;32m    486\u001b[0m     )\n\u001b[1;32m--> 487\u001b[0m torch\u001b[39m.\u001b[39;49mautograd\u001b[39m.\u001b[39;49mbackward(\n\u001b[0;32m    488\u001b[0m     \u001b[39mself\u001b[39;49m, gradient, retain_graph, create_graph, inputs\u001b[39m=\u001b[39;49minputs\n\u001b[0;32m    489\u001b[0m )\n",
      "File \u001b[1;32mc:\\Users\\alexi\\AppData\\Local\\Programs\\Python\\Python39\\lib\\site-packages\\torch\\autograd\\__init__.py:197\u001b[0m, in \u001b[0;36mbackward\u001b[1;34m(tensors, grad_tensors, retain_graph, create_graph, grad_variables, inputs)\u001b[0m\n\u001b[0;32m    192\u001b[0m     retain_graph \u001b[39m=\u001b[39m create_graph\n\u001b[0;32m    194\u001b[0m \u001b[39m# The reason we repeat same the comment below is that\u001b[39;00m\n\u001b[0;32m    195\u001b[0m \u001b[39m# some Python versions print out the first line of a multi-line function\u001b[39;00m\n\u001b[0;32m    196\u001b[0m \u001b[39m# calls in the traceback and some print out the last line\u001b[39;00m\n\u001b[1;32m--> 197\u001b[0m Variable\u001b[39m.\u001b[39;49m_execution_engine\u001b[39m.\u001b[39;49mrun_backward(  \u001b[39m# Calls into the C++ engine to run the backward pass\u001b[39;49;00m\n\u001b[0;32m    198\u001b[0m     tensors, grad_tensors_, retain_graph, create_graph, inputs,\n\u001b[0;32m    199\u001b[0m     allow_unreachable\u001b[39m=\u001b[39;49m\u001b[39mTrue\u001b[39;49;00m, accumulate_grad\u001b[39m=\u001b[39;49m\u001b[39mTrue\u001b[39;49;00m)\n",
      "\u001b[1;31mRuntimeError\u001b[0m: [enforce fail at C:\\actions-runner\\_work\\pytorch\\pytorch\\builder\\windows\\pytorch\\c10\\core\\impl\\alloc_cpu.cpp:72] data. DefaultCPUAllocator: not enough memory: you tried to allocate 150994944 bytes."
     ]
    }
   ],
   "source": [
    "patch_trainer.test()"
   ]
  }
 ],
 "metadata": {
  "kernelspec": {
   "display_name": "Python 3",
   "language": "python",
   "name": "python3"
  },
  "language_info": {
   "codemirror_mode": {
    "name": "ipython",
    "version": 3
   },
   "file_extension": ".py",
   "mimetype": "text/x-python",
   "name": "python",
   "nbconvert_exporter": "python",
   "pygments_lexer": "ipython3",
   "version": "3.9.5"
  },
  "orig_nbformat": 4,
  "vscode": {
   "interpreter": {
    "hash": "218f1b0455c600b672f8e434cb6df3b114bc143e2ff7452b3e91937ecde3049c"
   }
  }
 },
 "nbformat": 4,
 "nbformat_minor": 2
}
