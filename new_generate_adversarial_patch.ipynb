{
 "cells": [
  {
   "cell_type": "code",
   "execution_count": 1,
   "metadata": {},
   "outputs": [],
   "source": [
    "import new_patch\n",
    "from IPython.display import clear_output"
   ]
  },
  {
   "cell_type": "code",
   "execution_count": 2,
   "metadata": {},
   "outputs": [],
   "source": [
    "import constants.constants as c\n",
    "\n",
    "\n",
    "patch_trainer = new_patch.PatchTrainer(n_epochs=3)\n",
    "patch_trainer.train()\n",
    "patch_trainer.save_patch(\"BEST.patch\")\n",
    "clear_output()"
   ]
  }
 ],
 "metadata": {
  "kernelspec": {
   "display_name": "Python 3",
   "language": "python",
   "name": "python3"
  },
  "language_info": {
   "codemirror_mode": {
    "name": "ipython",
    "version": 3
   },
   "file_extension": ".py",
   "mimetype": "text/x-python",
   "name": "python",
   "nbconvert_exporter": "python",
   "pygments_lexer": "ipython3",
   "version": "3.9.5"
  },
  "orig_nbformat": 4,
  "vscode": {
   "interpreter": {
    "hash": "218f1b0455c600b672f8e434cb6df3b114bc143e2ff7452b3e91937ecde3049c"
   }
  }
 },
 "nbformat": 4,
 "nbformat_minor": 2
}
