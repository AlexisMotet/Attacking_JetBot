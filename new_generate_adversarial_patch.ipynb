{
 "cells": [
  {
   "cell_type": "code",
   "execution_count": 1,
   "metadata": {},
   "outputs": [
    {
     "name": "stderr",
     "output_type": "stream",
     "text": [
      "c:\\APPLIS\\AMESIM\\2020.2\\Amesim\\sys\\python\\win64\\lib\\site-packages\\tqdm\\auto.py:22: TqdmWarning: IProgress not found. Please update jupyter and ipywidgets. See https://ipywidgets.readthedocs.io/en/stable/user_install.html\n",
      "  from .autonotebook import tqdm as notebook_tqdm\n"
     ]
    }
   ],
   "source": [
    "import new_patch\n",
    "import matplotlib.pyplot as plt"
   ]
  },
  {
   "cell_type": "code",
   "execution_count": 2,
   "metadata": {},
   "outputs": [],
   "source": [
    "%matplotlib inline\n",
    "plt.rcParams['figure.figsize'] = [10, 10]"
   ]
  },
  {
   "cell_type": "code",
   "execution_count": 4,
   "metadata": {},
   "outputs": [
    {
     "name": "stdout",
     "output_type": "stream",
     "text": [
      "================ TRAINING ================\n",
      "date=18/01/2023 17:50:34 || path_model=U:\\PROJET_3A\\projet_NOUINOU_MOTET\\new_imagenette2-160_model.pth\n",
      "path_dataset=U:\\PROJET_3A\\imagenette2-160\\train || limit_train_epoch_len=20\n",
      "limit_test_len=20 || target_class=2\n",
      "patch_relative_size=0.01 || jitter=False\n",
      "distort=True || n_epochs=2\n",
      "mode=Mode.TARGET || random_mode=RandomMode.FULL_RANDOM\n",
      "lambda_tv=0 || lambda_print=0.0005\n",
      "threshold=0.9 || max_iterations=10\n",
      "==========================================\n",
      "                                                                                                                                              \r"
     ]
    },
    {
     "data": {
      "text/plain": [
       "<matplotlib.figure.Figure at 0x2050f320ef0>"
      ]
     },
     "metadata": {},
     "output_type": "display_data"
    }
   ],
   "source": [
    "patch_trainer = new_patch.PatchTrainer(target_class=2,distort=True, patch_relative_size=0.01, lambda_print=0.0005)\n",
    "patch_trainer.train()\n",
    "patch_trainer.save_patch(\"test_.patch\")"
   ]
  }
 ],
 "metadata": {
  "kernelspec": {
   "display_name": "Python 3.6.8 64-bit",
   "language": "python",
   "name": "python3"
  },
  "language_info": {
   "codemirror_mode": {
    "name": "ipython",
    "version": 3
   },
   "file_extension": ".py",
   "mimetype": "text/x-python",
   "name": "python",
   "nbconvert_exporter": "python",
   "pygments_lexer": "ipython3",
   "version": "3.6.8"
  },
  "orig_nbformat": 4,
  "vscode": {
   "interpreter": {
    "hash": "eb3db702564ac2add27c92cea07b321d1c74e5d399bbfc2c476bba8a3af4996b"
   }
  }
 },
 "nbformat": 4,
 "nbformat_minor": 2
}
