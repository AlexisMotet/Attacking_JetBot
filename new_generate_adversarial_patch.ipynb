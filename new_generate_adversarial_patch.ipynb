{
 "cells": [
  {
   "cell_type": "code",
   "execution_count": 1,
   "metadata": {},
   "outputs": [
    {
     "name": "stderr",
     "output_type": "stream",
     "text": [
      "c:\\APPLIS\\AMESIM\\2020.2\\Amesim\\sys\\python\\win64\\lib\\site-packages\\tqdm\\auto.py:22: TqdmWarning: IProgress not found. Please update jupyter and ipywidgets. See https://ipywidgets.readthedocs.io/en/stable/user_install.html\n",
      "  from .autonotebook import tqdm as notebook_tqdm\n"
     ]
    }
   ],
   "source": [
    "import new_patch\n",
    "from IPython.display import clear_output"
   ]
  },
  {
   "cell_type": "code",
   "execution_count": 2,
   "metadata": {},
   "outputs": [],
   "source": [
    "import constants.constants as c\n",
    "\n",
    "\n",
    "patch_trainer = new_patch.PatchTrainer(patch_relative_size=0.05, distort=True, mode=c.Mode.TARGET_AND_FLEE,\n",
    "                                        jitter=True, lambda_tv=0, lambda_print=0, target_class=1, n_epochs=5)\n",
    "patch_trainer.train()\n",
    "patch_trainer.save_patch(\"BEST.patch\")\n",
    "clear_output()"
   ]
  }
 ],
 "metadata": {
  "kernelspec": {
   "display_name": "Python 3.6.8 64-bit",
   "language": "python",
   "name": "python3"
  },
  "language_info": {
   "codemirror_mode": {
    "name": "ipython",
    "version": 3
   },
   "file_extension": ".py",
   "mimetype": "text/x-python",
   "name": "python",
   "nbconvert_exporter": "python",
   "pygments_lexer": "ipython3",
   "version": "3.6.8"
  },
  "orig_nbformat": 4,
  "vscode": {
   "interpreter": {
    "hash": "eb3db702564ac2add27c92cea07b321d1c74e5d399bbfc2c476bba8a3af4996b"
   }
  }
 },
 "nbformat": 4,
 "nbformat_minor": 2
}
