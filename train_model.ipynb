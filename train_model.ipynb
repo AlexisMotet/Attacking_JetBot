{
 "cells": [
  {
   "cell_type": "code",
   "execution_count": 1,
   "metadata": {},
   "outputs": [],
   "source": [
    "import torch\n",
    "import torchvision"
   ]
  },
  {
   "cell_type": "code",
   "execution_count": 2,
   "metadata": {},
   "outputs": [],
   "source": [
    "n_classes = 4\n",
    "batch_size = 4\n",
    "n_epochs = 5\n",
    "path_best_model = \".pth\""
   ]
  },
  {
   "cell_type": "code",
   "execution_count": 4,
   "metadata": {},
   "outputs": [],
   "source": [
    "path_dataset = \"\" \n",
    "ratio_train_val = 2/3\n",
    "\n",
    "dataset = torchvision.datasets.ImageFolder(\n",
    "    path_dataset,\n",
    "    torchvision.transforms.Compose([\n",
    "        torchvision.transforms.ColorJitter(0.1, 0.1, 0.1, 0.1),\n",
    "        torchvision.transforms.Resize(256),\n",
    "        torchvision.transforms.CenterCrop(224),\n",
    "        torchvision.transforms.ToTensor(),\n",
    "        torchvision.transforms.Normalize([0.485, 0.456, 0.406], [0.229, 0.224, 0.225])\n",
    "    ])\n",
    ")\n",
    "\n",
    "n_train = int(ratio_train_val * len(dataset))\n",
    "n_valid = len(dataset) - n_train\n",
    "\n",
    "train_dataset, valid_dataset = torch.utils.data.random_split(dataset, [n_train, n_valid])\n",
    "\n",
    "train_loader = torch.utils.data.DataLoader(\n",
    "    train_dataset,\n",
    "    batch_size=batch_size,\n",
    "    shuffle=True,\n",
    ")\n",
    "\n",
    "valid_loader = torch.utils.data.DataLoader(\n",
    "    valid_dataset,\n",
    "    batch_size=batch_size,\n",
    "    shuffle=True,\n",
    ")"
   ]
  },
  {
   "cell_type": "code",
   "execution_count": null,
   "metadata": {},
   "outputs": [],
   "source": [
    "model = torchvision.models.alexnet(pretrained=True)\n",
    "model.classifier[6] = torch.nn.Linear(model.classifier[6].in_features, n_classes)"
   ]
  },
  {
   "cell_type": "code",
   "execution_count": null,
   "metadata": {},
   "outputs": [],
   "source": [
    "optimizer = torch.optim.SGD(model.parameters(), lr=0.001, momentum=0.9)\n",
    "\n",
    "best_accuracy = 0.0\n",
    "\n",
    "for epoch in range(n_epochs):\n",
    "    for i, (images, labels) in enumerate(train_loader) :\n",
    "        optimizer.zero_grad()\n",
    "        outputs = model(images)\n",
    "        loss = torch.nn.functional.cross_entropy(outputs, labels)\n",
    "        loss.backward()\n",
    "        optimizer.step()\n",
    "        print('epoch %d batch %d/%d' % (epoch, (i + 1), len(train_loader)))\n",
    "    test_error_count = 0.0\n",
    "    for images, labels in valid_loader:\n",
    "        outputs = model(images)\n",
    "        test_error_count += float(torch.sum(torch.abs(labels - outputs.argmax(1))))\n",
    "    test_accuracy = 1.0 - float(test_error_count) / float(len(valid_dataset))\n",
    "    print('test accuracy : %f' % test_accuracy)\n",
    "    if test_accuracy > best_accuracy:\n",
    "        torch.save(model.state_dict(), path_best_model)\n",
    "        best_accuracy = test_accuracy"
   ]
  }
 ],
 "metadata": {
  "kernelspec": {
   "display_name": "Python 3",
   "language": "python",
   "name": "python3"
  },
  "language_info": {
   "codemirror_mode": {
    "name": "ipython",
    "version": 3
   },
   "file_extension": ".py",
   "mimetype": "text/x-python",
   "name": "python",
   "nbconvert_exporter": "python",
   "pygments_lexer": "ipython3",
   "version": "3.9.5"
  },
  "orig_nbformat": 4,
  "vscode": {
   "interpreter": {
    "hash": "218f1b0455c600b672f8e434cb6df3b114bc143e2ff7452b3e91937ecde3049c"
   }
  }
 },
 "nbformat": 4,
 "nbformat_minor": 2
}
